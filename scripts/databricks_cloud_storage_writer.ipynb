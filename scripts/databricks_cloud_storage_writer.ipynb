{
 "cells": [
  {
   "cell_type": "code",
   "execution_count": 0,
   "metadata": {
    "application/vnd.databricks.v1+cell": {
     "cellMetadata": {
      "byteLimit": 2048000,
      "rowLimit": 10000
     },
     "inputWidgets": {},
     "nuid": "42b91111-c663-4382-a1c7-47caf54c3f5e",
     "showTitle": false,
     "tableResultSettingsMap": {},
     "title": ""
    }
   },
   "outputs": [],
   "source": [
    "import os\n",
    "import uuid\n",
    "from databricks.sdk import WorkspaceClient\n",
    "\n",
    "from helper import *\n",
    "\n",
    "def copy_local_directory_to_external_location(local_directory, target_volume_location):\n",
    "    \"\"\"\n",
    "    Copies all files and subdirectories from a local directory to Unity Catalog volume location using the Databricks SDK for Python.\n",
    "    This function expects that your target location is added to volume and external location, using appropriate\n",
    "    storage credential that has write permission to the provided location.\n",
    "\n",
    "    Args:\n",
    "        local_directory (str): The absolute path to the local directory you want to copy.\n",
    "        target_volume_location (str): The absolute path of Unity Catalog volume location.\n",
    "\n",
    "    Returns:\n",
    "        bool: True if the copy was successful, False otherwise.\n",
    "    \"\"\"\n",
    "    try:\n",
    "        w = WorkspaceClient()\n",
    "\n",
    "        logger.info(f\"Preparing to copy files to the Unity Catalog volume path..\")\n",
    "        for root, _, files in os.walk(local_directory):\n",
    "            for file in files:\n",
    "                local_file_path = os.path.join(root, file)\n",
    "                relative_path = os.path.relpath(local_file_path, local_directory)\n",
    "                dbfs_file_path = os.path.join(target_volume_location, relative_path).replace(\"\\\\\", \"/\")\n",
    "                with open(local_file_path, \"rb\") as f:\n",
    "                    w.dbfs.upload(dbfs_file_path, f, overwrite=True)\n",
    "\n",
    "        logger.info(f\"Sucessfully copied files to target location!\")\n",
    "        return True\n",
    "    except Exception as e:\n",
    "        logging.error(f\"Error copying '{local_directory}' to DBFS: {e}\")\n",
    "        return False"
   ]
  },
  {
   "cell_type": "code",
   "execution_count": 0,
   "metadata": {
    "application/vnd.databricks.v1+cell": {
     "cellMetadata": {},
     "inputWidgets": {},
     "nuid": "c882c8d2-3102-42dc-a89a-efb1cd1670ce",
     "showTitle": false,
     "tableResultSettingsMap": {},
     "title": ""
    }
   },
   "outputs": [],
   "source": [
    "dbutils.widgets.text(\"target_volume_location\", defaultValue=\"\")\n",
    "target_volume_location = dbutils.widgets.get(\"target_volume_location\")\n",
    "if target_volume_location == \"\":\n",
    "    raise ValueError(\"Please provide a valid Unity Catalog Volume location to the 'target_volume_location' parameter. Format: /Volumes/mycatalog/myschema/myexternalvolume\")\n",
    "logger.info(f\"Target Unity Catalog volume location path: '{target_volume_location}'\")\n",
    "\n",
    "# Upload JSON files on local storage to Unity Catalog volume\n",
    "current_dir = os.getcwd()\n",
    "data_path = os.path.join(current_dir, \"data\")\n",
    "copy_local_directory_to_external_location(data_path, target_volume_location)\n",
    "\n",
    "logger.info(f\"Data copy process finished!\")"
   ]
  }
 ],
 "metadata": {
  "application/vnd.databricks.v1+notebook": {
   "computePreferences": null,
   "dashboards": [],
   "environmentMetadata": {
    "base_environment": "",
    "environment_version": "2"
   },
   "inputWidgetPreferences": null,
   "language": "python",
   "notebookMetadata": {
    "pythonIndentUnit": 4
   },
   "notebookName": "databricks_cloud_storage_writer",
   "widgets": {}
  },
  "language_info": {
   "name": "python"
  }
 },
 "nbformat": 4,
 "nbformat_minor": 0
}
